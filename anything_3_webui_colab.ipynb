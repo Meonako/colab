{
  "nbformat": 4,
  "nbformat_minor": 0,
  "metadata": {
    "colab": {
      "private_outputs": true,
      "provenance": [],
      "include_colab_link": true
    },
    "kernelspec": {
      "name": "python3",
      "display_name": "Python 3"
    },
    "language_info": {
      "name": "python"
    },
    "accelerator": "GPU",
    "gpuClass": "standard"
  },
  "cells": [
    {
      "cell_type": "markdown",
      "metadata": {
        "id": "view-in-github",
        "colab_type": "text"
      },
      "source": [
        "<a href=\"https://colab.research.google.com/github/Meonako/colab/blob/main/anything_3_webui_colab.ipynb\" target=\"_parent\"><img src=\"https://colab.research.google.com/assets/colab-badge.svg\" alt=\"Open In Colab\"/></a>"
      ]
    },
    {
      "cell_type": "code",
      "source": [
        "!pip install -q https://github.com/camenduru/stable-diffusion-webui-colab/releases/download/0.0.15/xformers-0.0.15.dev0+1515f77.d20221130-cp38-cp38-linux_x86_64.whl\n",
        "\n",
        "!git clone https://github.com/Meonako/stable-diffusion-webui\n",
        "%cd stable-diffusion-webui\n",
        "\n",
        "!sed -i -e 's/numpy==1.23.3/numpy==1.21.6/g' requirements_versions.txt\n",
        "!sed -i -e 's/fairscale==0.4.9/fairscale==0.4.6/g' requirements_versions.txt\n",
        "\n",
        "!wget https://huggingface.co/Linaqruf/anything-v3.0/resolve/main/Anything-V3.0.ckpt -O /content/stable-diffusion-webui/models/Stable-diffusion/Anything-V3.0.ckpt\n",
        "!wget https://huggingface.co/Linaqruf/anything-v3.0/resolve/main/Anything-V3.0.vae.pt -O /content/stable-diffusion-webui/models/Stable-diffusion/Global.vae.pt\n",
        "\n",
        "!git clone https://github.com/yfszzx/stable-diffusion-webui-images-browser extensions/images-browser\n",
        "!git clone https://github.com/DominikDoom/a1111-sd-webui-tagcomplete extensions/tag-autocomplete\n",
        "\n",
        "!python launch.py --share --force-enable-xformers --api"
      ],
      "metadata": {
        "id": "SaAJk33ppFw1"
      },
      "execution_count": null,
      "outputs": []
    },
    {
      "cell_type": "code",
      "source": [
        "!python launch.py --share --force-enable-xformers --api # Just incase it crash or broke"
      ],
      "metadata": {
        "id": "lV26UNqR4c4z"
      },
      "execution_count": null,
      "outputs": []
    }
  ]
}
